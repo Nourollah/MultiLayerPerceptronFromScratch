{
  "nbformat": 4,
  "nbformat_minor": 0,
  "metadata": {
    "colab": {
      "name": "ANN_GA.ipynb",
      "provenance": []
    },
    "kernelspec": {
      "name": "python3",
      "display_name": "Python 3"
    },
    "language_info": {
      "name": "python"
    }
  },
  "cells": [
    {
      "cell_type": "code",
      "metadata": {
        "colab": {
          "base_uri": "https://localhost:8080/"
        },
        "id": "Nz5XRjvvZrc3",
        "outputId": "6c0b9ee7-94d0-4d1e-9c27-27b138cbe266"
      },
      "source": [
        "!pip install gdown\n",
        "!gdown --id 1LhRuYh2Ab4Ap_69Xdg8MIBH2moHK1Ypa"
      ],
      "execution_count": null,
      "outputs": [
        {
          "output_type": "stream",
          "name": "stdout",
          "text": [
            "Requirement already satisfied: gdown in /usr/local/lib/python3.7/dist-packages (3.6.4)\n",
            "Requirement already satisfied: six in /usr/local/lib/python3.7/dist-packages (from gdown) (1.15.0)\n",
            "Requirement already satisfied: tqdm in /usr/local/lib/python3.7/dist-packages (from gdown) (4.62.3)\n",
            "Requirement already satisfied: requests in /usr/local/lib/python3.7/dist-packages (from gdown) (2.23.0)\n",
            "Requirement already satisfied: chardet<4,>=3.0.2 in /usr/local/lib/python3.7/dist-packages (from requests->gdown) (3.0.4)\n",
            "Requirement already satisfied: certifi>=2017.4.17 in /usr/local/lib/python3.7/dist-packages (from requests->gdown) (2021.10.8)\n",
            "Requirement already satisfied: idna<3,>=2.5 in /usr/local/lib/python3.7/dist-packages (from requests->gdown) (2.10)\n",
            "Requirement already satisfied: urllib3!=1.25.0,!=1.25.1,<1.26,>=1.21.1 in /usr/local/lib/python3.7/dist-packages (from requests->gdown) (1.24.3)\n",
            "Downloading...\n",
            "From: https://drive.google.com/uc?id=1LhRuYh2Ab4Ap_69Xdg8MIBH2moHK1Ypa\n",
            "To: /content/data.csv\n",
            "100% 12.1k/12.1k [00:00<00:00, 17.1MB/s]\n"
          ]
        }
      ]
    },
    {
      "cell_type": "code",
      "metadata": {
        "id": "rkQp-ay3ZMuW"
      },
      "source": [
        "import numpy as np # linear algebra\n",
        "import pandas as pd # data processing, CSV file I/O (e.g. pd.read_csv)\n",
        "import seaborn as sns # visualization\n",
        "from sklearn.neural_network import MLPClassifier # neural network\n",
        "from sklearn.model_selection import train_test_split\n",
        "from sklearn import metrics\n"
      ],
      "execution_count": null,
      "outputs": []
    },
    {
      "cell_type": "code",
      "metadata": {
        "colab": {
          "base_uri": "https://localhost:8080/",
          "height": 206
        },
        "id": "DxGt9EDyZqzJ",
        "outputId": "13c990bb-5ac2-4294-dbe6-4676469fe28f"
      },
      "source": [
        "data = pd.read_csv(\"data.csv\") \n",
        "data.sample(5) "
      ],
      "execution_count": null,
      "outputs": [
        {
          "output_type": "execute_result",
          "data": {
            "text/html": [
              "<div>\n",
              "<style scoped>\n",
              "    .dataframe tbody tr th:only-of-type {\n",
              "        vertical-align: middle;\n",
              "    }\n",
              "\n",
              "    .dataframe tbody tr th {\n",
              "        vertical-align: top;\n",
              "    }\n",
              "\n",
              "    .dataframe thead th {\n",
              "        text-align: right;\n",
              "    }\n",
              "</style>\n",
              "<table border=\"1\" class=\"dataframe\">\n",
              "  <thead>\n",
              "    <tr style=\"text-align: right;\">\n",
              "      <th></th>\n",
              "      <th>age</th>\n",
              "      <th>interest</th>\n",
              "      <th>success</th>\n",
              "    </tr>\n",
              "  </thead>\n",
              "  <tbody>\n",
              "    <tr>\n",
              "      <th>154</th>\n",
              "      <td>18.767324</td>\n",
              "      <td>59.717665</td>\n",
              "      <td>1.0</td>\n",
              "    </tr>\n",
              "    <tr>\n",
              "      <th>151</th>\n",
              "      <td>8.395444</td>\n",
              "      <td>15.224779</td>\n",
              "      <td>0.0</td>\n",
              "    </tr>\n",
              "    <tr>\n",
              "      <th>58</th>\n",
              "      <td>33.895835</td>\n",
              "      <td>29.425013</td>\n",
              "      <td>0.0</td>\n",
              "    </tr>\n",
              "    <tr>\n",
              "      <th>190</th>\n",
              "      <td>7.665506</td>\n",
              "      <td>8.339753</td>\n",
              "      <td>0.0</td>\n",
              "    </tr>\n",
              "    <tr>\n",
              "      <th>38</th>\n",
              "      <td>12.617491</td>\n",
              "      <td>18.069521</td>\n",
              "      <td>0.0</td>\n",
              "    </tr>\n",
              "  </tbody>\n",
              "</table>\n",
              "</div>"
            ],
            "text/plain": [
              "           age   interest  success\n",
              "154  18.767324  59.717665      1.0\n",
              "151   8.395444  15.224779      0.0\n",
              "58   33.895835  29.425013      0.0\n",
              "190   7.665506   8.339753      0.0\n",
              "38   12.617491  18.069521      0.0"
            ]
          },
          "metadata": {},
          "execution_count": 64
        }
      ]
    },
    {
      "cell_type": "code",
      "metadata": {
        "colab": {
          "base_uri": "https://localhost:8080/",
          "height": 391
        },
        "id": "R0BAFrEYaiMw",
        "outputId": "2cecbe23-1294-444a-e628-131fc24ebcea"
      },
      "source": [
        "sns.pairplot( data=data, vars=('age','interest'), hue='success' )"
      ],
      "execution_count": null,
      "outputs": [
        {
          "output_type": "execute_result",
          "data": {
            "text/plain": [
              "<seaborn.axisgrid.PairGrid at 0x7f9f3901bf10>"
            ]
          },
          "metadata": {},
          "execution_count": 65
        },
        {
          "output_type": "display_data",
          "data": {
            "image/png": "[encoded data removed]",
            "text/plain": [
              "<Figure size 411.875x360 with 6 Axes>"
            ]
          },
          "metadata": {
            "needs_background": "light"
          }
        }
      ]
    },
    {
      "cell_type": "code",
      "metadata": {
        "colab": {
          "base_uri": "https://localhost:8080/",
          "height": 300
        },
        "id": "z0O2z6UMatJA",
        "outputId": "966f5fd8-1c27-488f-fc35-6b9413f7733d"
      },
      "source": [
        "data.describe()"
      ],
      "execution_count": null,
      "outputs": [
        {
          "output_type": "execute_result",
          "data": {
            "text/html": [
              "<div>\n",
              "<style scoped>\n",
              "    .dataframe tbody tr th:only-of-type {\n",
              "        vertical-align: middle;\n",
              "    }\n",
              "\n",
              "    .dataframe tbody tr th {\n",
              "        vertical-align: top;\n",
              "    }\n",
              "\n",
              "    .dataframe thead th {\n",
              "        text-align: right;\n",
              "    }\n",
              "</style>\n",
              "<table border=\"1\" class=\"dataframe\">\n",
              "  <thead>\n",
              "    <tr style=\"text-align: right;\">\n",
              "      <th></th>\n",
              "      <th>age</th>\n",
              "      <th>interest</th>\n",
              "      <th>success</th>\n",
              "    </tr>\n",
              "  </thead>\n",
              "  <tbody>\n",
              "    <tr>\n",
              "      <th>count</th>\n",
              "      <td>297.000000</td>\n",
              "      <td>297.000000</td>\n",
              "      <td>297.000000</td>\n",
              "    </tr>\n",
              "    <tr>\n",
              "      <th>mean</th>\n",
              "      <td>23.709718</td>\n",
              "      <td>46.986527</td>\n",
              "      <td>0.569024</td>\n",
              "    </tr>\n",
              "    <tr>\n",
              "      <th>std</th>\n",
              "      <td>8.864000</td>\n",
              "      <td>21.956447</td>\n",
              "      <td>0.496049</td>\n",
              "    </tr>\n",
              "    <tr>\n",
              "      <th>min</th>\n",
              "      <td>2.347560</td>\n",
              "      <td>-0.852800</td>\n",
              "      <td>0.000000</td>\n",
              "    </tr>\n",
              "    <tr>\n",
              "      <th>25%</th>\n",
              "      <td>17.002148</td>\n",
              "      <td>28.689067</td>\n",
              "      <td>0.000000</td>\n",
              "    </tr>\n",
              "    <tr>\n",
              "      <th>50%</th>\n",
              "      <td>23.283644</td>\n",
              "      <td>45.695926</td>\n",
              "      <td>1.000000</td>\n",
              "    </tr>\n",
              "    <tr>\n",
              "      <th>75%</th>\n",
              "      <td>30.661149</td>\n",
              "      <td>65.171876</td>\n",
              "      <td>1.000000</td>\n",
              "    </tr>\n",
              "    <tr>\n",
              "      <th>max</th>\n",
              "      <td>45.773729</td>\n",
              "      <td>97.175508</td>\n",
              "      <td>1.000000</td>\n",
              "    </tr>\n",
              "  </tbody>\n",
              "</table>\n",
              "</div>"
            ],
            "text/plain": [
              "              age    interest     success\n",
              "count  297.000000  297.000000  297.000000\n",
              "mean    23.709718   46.986527    0.569024\n",
              "std      8.864000   21.956447    0.496049\n",
              "min      2.347560   -0.852800    0.000000\n",
              "25%     17.002148   28.689067    0.000000\n",
              "50%     23.283644   45.695926    1.000000\n",
              "75%     30.661149   65.171876    1.000000\n",
              "max     45.773729   97.175508    1.000000"
            ]
          },
          "metadata": {},
          "execution_count": 66
        }
      ]
    },
    {
      "cell_type": "code",
      "metadata": {
        "colab": {
          "base_uri": "https://localhost:8080/",
          "height": 206
        },
        "id": "qeQSO0-1aywH",
        "outputId": "fae7c326-fe78-4d82-cb9e-d570b7ec114f"
      },
      "source": [
        "df_norm = data[['age', 'interest']].apply(lambda x: (x - x.min()) / (x.max() - x.min()))\n",
        "df_norm.sample(n=5)"
      ],
      "execution_count": null,
      "outputs": [
        {
          "output_type": "execute_result",
          "data": {
            "text/html": [
              "<div>\n",
              "<style scoped>\n",
              "    .dataframe tbody tr th:only-of-type {\n",
              "        vertical-align: middle;\n",
              "    }\n",
              "\n",
              "    .dataframe tbody tr th {\n",
              "        vertical-align: top;\n",
              "    }\n",
              "\n",
              "    .dataframe thead th {\n",
              "        text-align: right;\n",
              "    }\n",
              "</style>\n",
              "<table border=\"1\" class=\"dataframe\">\n",
              "  <thead>\n",
              "    <tr style=\"text-align: right;\">\n",
              "      <th></th>\n",
              "      <th>age</th>\n",
              "      <th>interest</th>\n",
              "    </tr>\n",
              "  </thead>\n",
              "  <tbody>\n",
              "    <tr>\n",
              "      <th>91</th>\n",
              "      <td>0.494112</td>\n",
              "      <td>0.269231</td>\n",
              "    </tr>\n",
              "    <tr>\n",
              "      <th>256</th>\n",
              "      <td>0.124952</td>\n",
              "      <td>0.024705</td>\n",
              "    </tr>\n",
              "    <tr>\n",
              "      <th>140</th>\n",
              "      <td>0.558343</td>\n",
              "      <td>0.657283</td>\n",
              "    </tr>\n",
              "    <tr>\n",
              "      <th>70</th>\n",
              "      <td>0.747358</td>\n",
              "      <td>0.346702</td>\n",
              "    </tr>\n",
              "    <tr>\n",
              "      <th>21</th>\n",
              "      <td>0.674970</td>\n",
              "      <td>0.754770</td>\n",
              "    </tr>\n",
              "  </tbody>\n",
              "</table>\n",
              "</div>"
            ],
            "text/plain": [
              "          age  interest\n",
              "91   0.494112  0.269231\n",
              "256  0.124952  0.024705\n",
              "140  0.558343  0.657283\n",
              "70   0.747358  0.346702\n",
              "21   0.674970  0.754770"
            ]
          },
          "metadata": {},
          "execution_count": 69
        }
      ]
    },
    {
      "cell_type": "code",
      "metadata": {
        "colab": {
          "base_uri": "https://localhost:8080/",
          "height": 300
        },
        "id": "Pjfsl5J2a1HJ",
        "outputId": "94a6c81e-234a-4e30-ac95-b5674532ce1e"
      },
      "source": [
        "df_norm.describe()"
      ],
      "execution_count": null,
      "outputs": [
        {
          "output_type": "execute_result",
          "data": {
            "text/html": [
              "<div>\n",
              "<style scoped>\n",
              "    .dataframe tbody tr th:only-of-type {\n",
              "        vertical-align: middle;\n",
              "    }\n",
              "\n",
              "    .dataframe tbody tr th {\n",
              "        vertical-align: top;\n",
              "    }\n",
              "\n",
              "    .dataframe thead th {\n",
              "        text-align: right;\n",
              "    }\n",
              "</style>\n",
              "<table border=\"1\" class=\"dataframe\">\n",
              "  <thead>\n",
              "    <tr style=\"text-align: right;\">\n",
              "      <th></th>\n",
              "      <th>age</th>\n",
              "      <th>interest</th>\n",
              "    </tr>\n",
              "  </thead>\n",
              "  <tbody>\n",
              "    <tr>\n",
              "      <th>count</th>\n",
              "      <td>297.000000</td>\n",
              "      <td>297.000000</td>\n",
              "    </tr>\n",
              "    <tr>\n",
              "      <th>mean</th>\n",
              "      <td>0.491919</td>\n",
              "      <td>0.488015</td>\n",
              "    </tr>\n",
              "    <tr>\n",
              "      <th>std</th>\n",
              "      <td>0.204117</td>\n",
              "      <td>0.223981</td>\n",
              "    </tr>\n",
              "    <tr>\n",
              "      <th>min</th>\n",
              "      <td>0.000000</td>\n",
              "      <td>0.000000</td>\n",
              "    </tr>\n",
              "    <tr>\n",
              "      <th>25%</th>\n",
              "      <td>0.337460</td>\n",
              "      <td>0.301361</td>\n",
              "    </tr>\n",
              "    <tr>\n",
              "      <th>50%</th>\n",
              "      <td>0.482108</td>\n",
              "      <td>0.474850</td>\n",
              "    </tr>\n",
              "    <tr>\n",
              "      <th>75%</th>\n",
              "      <td>0.651994</td>\n",
              "      <td>0.673527</td>\n",
              "    </tr>\n",
              "    <tr>\n",
              "      <th>max</th>\n",
              "      <td>1.000000</td>\n",
              "      <td>1.000000</td>\n",
              "    </tr>\n",
              "  </tbody>\n",
              "</table>\n",
              "</div>"
            ],
            "text/plain": [
              "              age    interest\n",
              "count  297.000000  297.000000\n",
              "mean     0.491919    0.488015\n",
              "std      0.204117    0.223981\n",
              "min      0.000000    0.000000\n",
              "25%      0.337460    0.301361\n",
              "50%      0.482108    0.474850\n",
              "75%      0.651994    0.673527\n",
              "max      1.000000    1.000000"
            ]
          },
          "metadata": {},
          "execution_count": 70
        }
      ]
    },
    {
      "cell_type": "code",
      "metadata": {
        "colab": {
          "base_uri": "https://localhost:8080/",
          "height": 206
        },
        "id": "O_tlSwPAa9kn",
        "outputId": "f39557e5-573d-45a0-8df1-060f06079c3b"
      },
      "source": [
        "target = data[[\"success\"]]\n",
        "df = pd.concat([df_norm, target], axis=1)\n",
        "df.sample(n=5)"
      ],
      "execution_count": null,
      "outputs": [
        {
          "output_type": "execute_result",
          "data": {
            "text/html": [
              "<div>\n",
              "<style scoped>\n",
              "    .dataframe tbody tr th:only-of-type {\n",
              "        vertical-align: middle;\n",
              "    }\n",
              "\n",
              "    .dataframe tbody tr th {\n",
              "        vertical-align: top;\n",
              "    }\n",
              "\n",
              "    .dataframe thead th {\n",
              "        text-align: right;\n",
              "    }\n",
              "</style>\n",
              "<table border=\"1\" class=\"dataframe\">\n",
              "  <thead>\n",
              "    <tr style=\"text-align: right;\">\n",
              "      <th></th>\n",
              "      <th>age</th>\n",
              "      <th>interest</th>\n",
              "      <th>success</th>\n",
              "    </tr>\n",
              "  </thead>\n",
              "  <tbody>\n",
              "    <tr>\n",
              "      <th>144</th>\n",
              "      <td>0.736908</td>\n",
              "      <td>0.371563</td>\n",
              "      <td>0.0</td>\n",
              "    </tr>\n",
              "    <tr>\n",
              "      <th>41</th>\n",
              "      <td>0.393285</td>\n",
              "      <td>0.639782</td>\n",
              "      <td>1.0</td>\n",
              "    </tr>\n",
              "    <tr>\n",
              "      <th>14</th>\n",
              "      <td>0.549676</td>\n",
              "      <td>0.380024</td>\n",
              "      <td>0.0</td>\n",
              "    </tr>\n",
              "    <tr>\n",
              "      <th>207</th>\n",
              "      <td>0.875637</td>\n",
              "      <td>0.332043</td>\n",
              "      <td>1.0</td>\n",
              "    </tr>\n",
              "    <tr>\n",
              "      <th>183</th>\n",
              "      <td>0.461491</td>\n",
              "      <td>0.885559</td>\n",
              "      <td>1.0</td>\n",
              "    </tr>\n",
              "  </tbody>\n",
              "</table>\n",
              "</div>"
            ],
            "text/plain": [
              "          age  interest  success\n",
              "144  0.736908  0.371563      0.0\n",
              "41   0.393285  0.639782      1.0\n",
              "14   0.549676  0.380024      0.0\n",
              "207  0.875637  0.332043      1.0\n",
              "183  0.461491  0.885559      1.0"
            ]
          },
          "metadata": {},
          "execution_count": 73
        }
      ]
    },
    {
      "cell_type": "code",
      "metadata": {
        "colab": {
          "base_uri": "https://localhost:8080/",
          "height": 206
        },
        "id": "8zKTElrha_Vz",
        "outputId": "17573552-3176-443e-f084-aab07310fa62"
      },
      "source": [
        "train, test = train_test_split(df, test_size = 0.3)\n",
        "trainX = train[['age','interest']]# taking the training data features\n",
        "trainY=train.success# output of our training data\n",
        "testX= test[['age','interest']] # taking test data features\n",
        "testY =test.success   #output value of test data\n",
        "trainX.head(5)"
      ],
      "execution_count": null,
      "outputs": [
        {
          "output_type": "execute_result",
          "data": {
            "text/html": [
              "<div>\n",
              "<style scoped>\n",
              "    .dataframe tbody tr th:only-of-type {\n",
              "        vertical-align: middle;\n",
              "    }\n",
              "\n",
              "    .dataframe tbody tr th {\n",
              "        vertical-align: top;\n",
              "    }\n",
              "\n",
              "    .dataframe thead th {\n",
              "        text-align: right;\n",
              "    }\n",
              "</style>\n",
              "<table border=\"1\" class=\"dataframe\">\n",
              "  <thead>\n",
              "    <tr style=\"text-align: right;\">\n",
              "      <th></th>\n",
              "      <th>age</th>\n",
              "      <th>interest</th>\n",
              "    </tr>\n",
              "  </thead>\n",
              "  <tbody>\n",
              "    <tr>\n",
              "      <th>62</th>\n",
              "      <td>0.536661</td>\n",
              "      <td>0.584317</td>\n",
              "    </tr>\n",
              "    <tr>\n",
              "      <th>263</th>\n",
              "      <td>0.272454</td>\n",
              "      <td>0.444194</td>\n",
              "    </tr>\n",
              "    <tr>\n",
              "      <th>183</th>\n",
              "      <td>0.461491</td>\n",
              "      <td>0.885559</td>\n",
              "    </tr>\n",
              "    <tr>\n",
              "      <th>175</th>\n",
              "      <td>0.154503</td>\n",
              "      <td>0.551606</td>\n",
              "    </tr>\n",
              "    <tr>\n",
              "      <th>20</th>\n",
              "      <td>0.622513</td>\n",
              "      <td>0.266615</td>\n",
              "    </tr>\n",
              "  </tbody>\n",
              "</table>\n",
              "</div>"
            ],
            "text/plain": [
              "          age  interest\n",
              "62   0.536661  0.584317\n",
              "263  0.272454  0.444194\n",
              "183  0.461491  0.885559\n",
              "175  0.154503  0.551606\n",
              "20   0.622513  0.266615"
            ]
          },
          "metadata": {},
          "execution_count": 139
        }
      ]
    },
    {
      "cell_type": "code",
      "metadata": {
        "id": "MdrtCu2FbCMz"
      },
      "source": [
        "from keras.models import Sequential\n",
        "from keras.layers import Dense,Input\n",
        "\n",
        "model = Sequential()\n",
        "model.add(Dense(2, input_dim=2))\n",
        "model.add(Dense(1))\n",
        "# Compile model. We use the the logarithmic loss function, and the Adam gradient optimizer.\n",
        "model.compile(loss='binary_crossentropy', optimizer='adam')\n"
      ],
      "execution_count": null,
      "outputs": []
    },
    {
      "cell_type": "code",
      "metadata": {
        "id": "tfKd2lhqofZv"
      },
      "source": [
        "#model.fit(trainX,trainY,epochs=1000)\n",
        "model.set_weights(w)"
      ],
      "execution_count": null,
      "outputs": []
    },
    {
      "cell_type": "code",
      "metadata": {
        "colab": {
          "base_uri": "https://localhost:8080/"
        },
        "id": "LZMjGMdwuewK",
        "outputId": "e0aeab4f-7870-49c9-dd2c-e99b0cd50b37"
      },
      "source": [
        "prediction = np.rint(model.predict(testX))\n",
        "print('The accuracy of the Multi-layer Perceptron is:',metrics.accuracy_score(prediction,testY))"
      ],
      "execution_count": null,
      "outputs": [
        {
          "output_type": "stream",
          "name": "stdout",
          "text": [
            "The accuracy of the Multi-layer Perceptron is: 0.8777777777777778\n"
          ]
        }
      ]
    },
    {
      "cell_type": "code",
      "metadata": {
        "id": "cZ_ElWhBws8O"
      },
      "source": [
        "w = model.get_weights()"
      ],
      "execution_count": null,
      "outputs": []
    },
    {
      "cell_type": "code",
      "metadata": {
        "colab": {
          "base_uri": "https://localhost:8080/",
          "height": 312
        },
        "id": "shSuYwdYxBDA",
        "outputId": "b729ce48-06b1-4490-b65a-31e53a3e4802"
      },
      "source": [
        "from keras.utils.vis_utils import plot_model\n",
        "plot_model(model, to_file='model_plot.png', show_shapes=True, show_layer_names=True)"
      ],
      "execution_count": null,
      "outputs": [
        {
          "output_type": "execute_result",
          "data": {
            "image/png": "[encoded data removed]",
            "text/plain": [
              "<IPython.core.display.Image object>"
            ]
          },
          "metadata": {},
          "execution_count": 157
        }
      ]
    },
    {
      "cell_type": "code",
      "metadata": {
        "colab": {
          "base_uri": "https://localhost:8080/"
        },
        "id": "lM-fmmSgz4Nv",
        "outputId": "a2396d06-de9c-474a-e8c9-86b88154e686"
      },
      "source": [
        "w"
      ],
      "execution_count": null,
      "outputs": [
        {
          "output_type": "execute_result",
          "data": {
            "text/plain": [
              "[array([[-1.115022  ,  0.29609752],\n",
              "        [-4.4045763 ,  5.2353883 ]], dtype=float32),\n",
              " array([ 2.2039154, -2.266368 ], dtype=float32),\n",
              " array([[-4.739885 ],\n",
              "        [ 4.5700326]], dtype=float32),\n",
              " array([-0.36092335], dtype=float32)]"
            ]
          },
          "metadata": {},
          "execution_count": 191
        }
      ]
    },
    {
      "cell_type": "code",
      "metadata": {
        "id": "kr92oD9yy7BR"
      },
      "source": [
        "def weight_to_chromosome(w):\n",
        "  return (*w[0][0],*w[0][1],*w[1],*w[2][0],*w[2][1],*w[3])\n",
        "\n",
        "c = weight_to_chromosome(w)\n",
        "\n",
        "def chromosome_to_weight(c):\n",
        "  return [\n",
        "          np.array([list(c[:2]),list(c[2:4])]),\n",
        "          np.array(list(c[4:6])),\n",
        "          np.array([[c[6]],[c[7]]]),\n",
        "          np.array(list(c[8:]))\n",
        "        ]\n",
        "\n",
        "w = chromosome_to_weight(c)\n",
        "  "
      ],
      "execution_count": null,
      "outputs": []
    },
    {
      "cell_type": "code",
      "metadata": {
        "colab": {
          "base_uri": "https://localhost:8080/"
        },
        "id": "0s2SjeWy289D",
        "outputId": "d58313d0-4bbe-4783-b2c9-2e5000a749cd"
      },
      "source": [
        "!pip install pyeasyga"
      ],
      "execution_count": null,
      "outputs": [
        {
          "output_type": "stream",
          "name": "stdout",
          "text": [
            "Collecting pyeasyga\n",
            "  Downloading pyeasyga-0.3.1.tar.gz (20 kB)\n",
            "Requirement already satisfied: six in /usr/local/lib/python3.7/dist-packages (from pyeasyga) (1.15.0)\n",
            "Building wheels for collected packages: pyeasyga\n",
            "  Building wheel for pyeasyga (setup.py) ... \u001b[?25l\u001b[?25hdone\n",
            "  Created wheel for pyeasyga: filename=pyeasyga-0.3.1-py2.py3-none-any.whl size=6804 sha256=d9d2c7a5e8e3bff39423f97685a5eee07230a3fb40fb524bd61d49cbbf63134d\n",
            "  Stored in directory: /root/.cache/pip/wheels/58/fa/2a/493c9d613e1048d4338ce44436a2e1c056b9ffcc75fb79add5\n",
            "Successfully built pyeasyga\n",
            "Installing collected packages: pyeasyga\n",
            "Successfully installed pyeasyga-0.3.1\n"
          ]
        }
      ]
    },
    {
      "cell_type": "code",
      "metadata": {
        "id": "tjak1iUf3HZF"
      },
      "source": [
        "from pyeasyga import pyeasyga"
      ],
      "execution_count": null,
      "outputs": []
    },
    {
      "cell_type": "code",
      "metadata": {
        "id": "2E3Tlq-j3Mkn"
      },
      "source": [
        "ga = pyeasyga.GeneticAlgorithm(data,\n",
        "                               population_size=10,\n",
        "                               generations=20,\n",
        "                               crossover_probability=0.8,\n",
        "                               mutation_probability=0.05,\n",
        "                               elitism=True,\n",
        "                               maximise_fitness=True)"
      ],
      "execution_count": null,
      "outputs": []
    },
    {
      "cell_type": "code",
      "metadata": {
        "id": "5FWQYx2K3SbM"
      },
      "source": [
        "def create_individual(data):\n",
        "    return np.random.rand(9) * 10 - 5\n",
        "  \n",
        "ga.create_individual = create_individual"
      ],
      "execution_count": null,
      "outputs": []
    },
    {
      "cell_type": "code",
      "metadata": {
        "id": "aObuZXhK6Ixz"
      },
      "source": [
        "def crossover(parent_1, parent_2):\n",
        "    index = np.random.randint(1,len(parent_1))\n",
        "    child_1 = np.concatenate((parent_1[:index], parent_2[index:]), axis=0)\n",
        "    child_2 = np.concatenate((parent_2[:index], parent_1[index:]), axis=0)\n",
        "    return child_1, child_2\n",
        "\n",
        "ga.crossover_function = crossover"
      ],
      "execution_count": null,
      "outputs": []
    },
    {
      "cell_type": "code",
      "metadata": {
        "id": "f-fld5903axH"
      },
      "source": [
        "def mutate(individual):\n",
        "    mutate_index = np.random.randint(len(individual))\n",
        "    individual[mutate_index] = np.random.rand(1)[0] * 10 - 5\n",
        "    \n",
        "ga.mutate_function = mutate"
      ],
      "execution_count": null,
      "outputs": []
    },
    {
      "cell_type": "code",
      "metadata": {
        "id": "V10VDUKR4e57"
      },
      "source": [
        "def fitness (individual, data=None):\n",
        "    global model,testX,testY\n",
        "    w = chromosome_to_weight(individual)\n",
        "    model.set_weights(w)\n",
        "    prediction = np.rint(model.predict(testX))\n",
        "    return metrics.accuracy_score(prediction,testY)\n",
        "\n",
        "ga.fitness_function = fitness"
      ],
      "execution_count": null,
      "outputs": []
    },
    {
      "cell_type": "code",
      "metadata": {
        "id": "U9S5jEz_5xeH"
      },
      "source": [
        "ga.run()"
      ],
      "execution_count": null,
      "outputs": []
    },
    {
      "cell_type": "code",
      "metadata": {
        "colab": {
          "base_uri": "https://localhost:8080/"
        },
        "id": "c6WKQDnK5zyX",
        "outputId": "3fe6c326-7616-4b00-ec73-e745509dfd48"
      },
      "source": [
        "ga.best_individual()[0]"
      ],
      "execution_count": null,
      "outputs": [
        {
          "output_type": "execute_result",
          "data": {
            "text/plain": [
              "0.9"
            ]
          },
          "metadata": {},
          "execution_count": 258
        }
      ]
    }
  ]
}