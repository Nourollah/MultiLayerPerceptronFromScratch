{
 "nbformat": 4,
 "nbformat_minor": 0,
 "metadata": {
  "colab": {
   "name": "Cnn.ipynb",
   "provenance": [],
   "collapsed_sections": []
  },
  "kernelspec": {
   "name": "python3",
   "display_name": "Python 3"
  },
  "language_info": {
   "name": "python"
  },
  "accelerator": "GPU"
 },
 "cells": [
  {
   "cell_type": "code",
   "execution_count": 71,
   "metadata": {
    "id": "yxA80-8eYwSm"
   },
   "outputs": [],
   "source": [
    "import torch\n",
    "from torch import nn\n",
    "import tensorflow as tf\n",
    "from tqdm import tqdm\n",
    "from torch.utils.data import DataLoader\n",
    "from torch.utils.data import Dataset\n",
    "from torch.utils.tensorboard import SummaryWriter\n",
    "from tensorboard import notebook"
   ]
  },
  {
   "cell_type": "code",
   "source": [
    "# Load the MNIST data from Keras (Because Keras is a easier to load dataset)\n",
    "tf.keras.datasets.mnist.load_data(path='mnist.npz')\n",
    "(x_train, y_train), (x_test, y_test) = tf.keras.datasets.mnist.load_data()"
   ],
   "metadata": {
    "id": "iHmeCzMGZH3x"
   },
   "execution_count": 72,
   "outputs": []
  },
  {
   "cell_type": "code",
   "source": [
    "def encoder(batch, label, class_num=10, device='cuda') -> torch.tensor:\n",
    "    # Create a matrix that contains one-hots vectors\n",
    "    new_label = torch.zeros(batch, class_num, device=device)\n",
    "    # Transfer zero to one to shown label in one-hot vector\n",
    "    for i, l in enumerate(label):\n",
    "        new_label[i][l - 1] = 1.0\n",
    "    # Return value\n",
    "    return new_label\n"
   ],
   "metadata": {
    "id": "c1GyTeNnTqWI"
   },
   "execution_count": 73,
   "outputs": []
  },
  {
   "cell_type": "code",
   "source": [
    "class Mnist(Dataset):\n",
    "    # Constructor\n",
    "    def __init__(self, data, label):\n",
    "        # Initialize the dataset\n",
    "        self.data = data\n",
    "        self.label = label\n",
    "\n",
    "    def __getitem__(self, index):\n",
    "        # Return the data and label one by one when class is called\n",
    "        data = torch.tensor(self.data[index])\n",
    "        # Normalize the image to [0, 1]\n",
    "        data = data / 255.0\n",
    "        label = self.label[index]\n",
    "        return data, label\n",
    "\n",
    "    def __len__(self):\n",
    "        # Find and return the length of the dataset\n",
    "        return len(self.data)"
   ],
   "metadata": {
    "id": "tyaBoSDeDJF5"
   },
   "execution_count": 74,
   "outputs": []
  },
  {
   "cell_type": "code",
   "execution_count": null,
   "outputs": [],
   "source": [
    "# Create a dataset class object for training and testing\n",
    "Train = Mnist(x_train, y_train)\n",
    "Test = Mnist(x_test, y_test)\n",
    "# Set the batch size\n",
    "bs = 1000\n",
    "# Set the number of epochs\n",
    "n_epoch = 500"
   ],
   "metadata": {
    "collapsed": false,
    "pycharm": {
     "name": "#%%\n"
    }
   }
  },
  {
   "cell_type": "code",
   "execution_count": null,
   "outputs": [],
   "source": [
    "# Create a dataloader for training, set batch size and shuffle process on this class\n",
    "TrainLoader = DataLoader(dataset=Train,\n",
    "                         batch_size=bs,\n",
    "                         shuffle=True,\n",
    "                         num_workers=0,\n",
    "                         pin_memory=False)\n",
    "\n",
    "# Create a dataloader for testing, set batch size and shuffle process on this class\n",
    "TestLoader = DataLoader(dataset=Test,\n",
    "                         batch_size=bs,\n",
    "                         shuffle=True,\n",
    "                         num_workers=0,\n",
    "                         pin_memory=False)"
   ],
   "metadata": {
    "collapsed": false,
    "pycharm": {
     "name": "#%%\n"
    }
   }
  },
  {
   "cell_type": "code",
   "source": [
    "class ConvolutionalModel(nn.Module):\n",
    "    def __init__(self):\n",
    "        super(ConvolutionalModel, self).__init__()\n",
    "        self.feature = torch.nn.Sequential(\n",
    "            torch.nn.Conv2d(1, 10, kernel_size=5),\n",
    "            torch.nn.ReLU(inplace=True),\n",
    "            torch.nn.Conv2d(10, 20, kernel_size=5),\n",
    "            torch.nn.ReLU(inplace=True)\n",
    "        )\n",
    "        self.classify = torch.nn.Sequential(\n",
    "            torch.nn.Linear(8000, 2000),\n",
    "            torch.nn.ReLU(inplace=True),\n",
    "            torch.nn.Linear(2000, 10)\n",
    "        )\n",
    "         \n",
    "    def forward(self, x):\n",
    "        x = self.feature(x)\n",
    "        x = x.view(-1, 1, 8000)\n",
    "        x = self.classify(x)\n",
    "        return x\n"
   ],
   "metadata": {
    "id": "VvFoj58ka553"
   },
   "execution_count": 76,
   "outputs": []
  },
  {
   "cell_type": "code",
   "source": [
    "# Check GPU availability, if not, use CPU\n",
    "if torch.cuda.is_available():\n",
    "    device = \"cuda\"\n",
    "    # Set worker numbers to load data from hard(RAM) to GPU\n",
    "    num_worker = 1\n",
    "    pin_memory = True\n",
    "else:\n",
    "    device = \"cpu\"\n",
    "    # Do not use GPU, do not need to worker for loading data on GPU\n",
    "    num_worker = 0\n",
    "    pin_memory = False"
   ],
   "metadata": {
    "id": "bAU0EFbMCFGe"
   },
   "execution_count": 77,
   "outputs": []
  },
  {
   "cell_type": "code",
   "source": [
    "# Create a model object\n",
    "CNN = ConvolutionalModel().to(device)"
   ],
   "metadata": {
    "id": "LzeUKPfqLQIJ"
   },
   "execution_count": 78,
   "outputs": []
  },
  {
   "cell_type": "code",
   "source": [
    "# Monitor the training process with tensorboard, use for plotting the loss and accuracy\n",
    "writer = SummaryWriter()\n",
    "# Create a loss function\n",
    "criterion = torch.nn.CrossEntropyLoss()\n",
    "# Create a optimizer\n",
    "optimizer = torch.optim.Adam(CNN.parameters(), lr=0.001, weight_decay=0.0001)\n",
    "# Create a scheduler to update learning rate\n",
    "scheduler = torch.optim.lr_scheduler.StepLR(optimizer, step_size=50, gamma=0.1)"
   ],
   "metadata": {
    "id": "AgH56G66PdhY"
   },
   "execution_count": 83,
   "outputs": []
  },
  {
   "cell_type": "code",
   "source": [
    "def train(model, epoch) -> None:\n",
    "    # Set the model to training mode\n",
    "    model.train()\n",
    "    # Set the loss and accuracy buffer to zero\n",
    "    run_train_loss = 0.0\n",
    "    loss = 0.0\n",
    "    # Iterate over the training dataset\n",
    "    for data, label in TrainLoader:\n",
    "        # Delete redundant dimension\n",
    "        data = torch.unsqueeze(data, 1)\n",
    "\n",
    "        # Transfer data and label to GPU (labels converted to one-hot vector)\n",
    "        data = data.to(device)\n",
    "        label = encoder(data.shape[0], label, 10, device)\n",
    "        # Calculate the output of the model\n",
    "        output = model(data)\n",
    "        # Fix dimension of the output and label\n",
    "        output_s = torch.squeeze(output, dim=1)\n",
    "        # Calculate the loss\n",
    "        loss = criterion(output_s, label)\n",
    "        # Hold the loss for next iteration\n",
    "        run_train_loss += loss.item()\n",
    "        # Optimize values set to zero\n",
    "        optimizer.zero_grad()\n",
    "        # Calculate the gradient of the loss with respect to the weights of the model and update the weights with back propagation\n",
    "        loss.backward()\n",
    "        # Apply the optimizer to update the weights\n",
    "        optimizer.step()\n",
    "\n",
    "    # Calculate the average loss and monitor this value with tensorboard\n",
    "    writer.add_scalar('Train/Loss', loss / len(TrainLoader), epoch)"
   ],
   "metadata": {
    "id": "SBbwxTlZP2Yx"
   },
   "execution_count": 84,
   "outputs": []
  },
  {
   "cell_type": "code",
   "source": [
    "def test(model, epoch) -> None:\n",
    "    # Set the model to evaluation mode\n",
    "    model.eval()\n",
    "    # Set the loss and accuracy buffer to zero\n",
    "    correct = 0\n",
    "    # Deactivate autograd for evaluation\n",
    "    with torch.no_grad():\n",
    "        # Iterate over the testing dataset\n",
    "        for data, label in TestLoader:\n",
    "            # Delete redundant dimension\n",
    "            data = torch.unsqueeze(data, 1)\n",
    "            # Transfer data and label to GPU\n",
    "            data = data.to(device)\n",
    "            label = label.to(device)\n",
    "            # Calculate the output of the model\n",
    "            output = model(data)\n",
    "            # Apply the logistic function to the output\n",
    "            output = torch.exp(output)\n",
    "            # Calculate the top-1 accuracy\n",
    "            output = torch.tensor([torch.argmax(o) for o in output]).to(device)\n",
    "            predicts = torch.where(output == label)\n",
    "            # Count the number of correct predictions\n",
    "            correct += len(predicts[0])\n",
    "\n",
    "        # Calculate the accuracy with respect to the number of testing samples and monitor this value with tensorboard\n",
    "        writer.add_scalar('Test/Accuracy', correct / len(TestLoader), epoch)"
   ],
   "metadata": {
    "id": "r37I1sBSWPXC"
   },
   "execution_count": 85,
   "outputs": []
  },
  {
   "cell_type": "code",
   "source": [
    "# Training loop for the model with the specified number of epochs\n",
    "for epoch in tqdm(range(1, n_epoch + 1)):\n",
    "    # Train the model\n",
    "    train(CNN, epoch)\n",
    "    # Test the model\n",
    "    test(CNN, epoch)\n",
    "    # Update the learning rate with the scheduler if the epoch is a multiple of 50\n",
    "    scheduler.step()\n",
    "\n",
    "# Fluent print the accuracy of the model\n",
    "writer.flush()"
   ],
   "metadata": {
    "colab": {
     "base_uri": "https://localhost:8080/",
     "height": 1000
    },
    "id": "Zbnqf-MBWsNa",
    "outputId": "92ce692e-3040-4b94-8236-c285a1739e73"
   },
   "execution_count": 87,
   "outputs": [
    {
     "name": "stderr",
     "output_type": "stream",
     "text": [
      "  7%|▋         | 36/500 [08:24<1:48:19, 14.01s/it]\n"
     ]
    },
    {
     "ename": "KeyboardInterrupt",
     "evalue": "",
     "output_type": "error",
     "traceback": [
      "\u001B[0;31m---------------------------------------------------------------------------\u001B[0m",
      "\u001B[0;31mKeyboardInterrupt\u001B[0m                         Traceback (most recent call last)",
      "\u001B[0;32m/tmp/ipykernel_136568/2187862606.py\u001B[0m in \u001B[0;36m<module>\u001B[0;34m\u001B[0m\n\u001B[1;32m      1\u001B[0m \u001B[0;32mfor\u001B[0m \u001B[0mepoch\u001B[0m \u001B[0;32min\u001B[0m \u001B[0mtqdm\u001B[0m\u001B[0;34m(\u001B[0m\u001B[0mrange\u001B[0m\u001B[0;34m(\u001B[0m\u001B[0;36m1\u001B[0m\u001B[0;34m,\u001B[0m \u001B[0mn_epoch\u001B[0m \u001B[0;34m+\u001B[0m \u001B[0;36m1\u001B[0m\u001B[0;34m)\u001B[0m\u001B[0;34m)\u001B[0m\u001B[0;34m:\u001B[0m\u001B[0;34m\u001B[0m\u001B[0;34m\u001B[0m\u001B[0m\n\u001B[0;32m----> 2\u001B[0;31m     \u001B[0mtrain\u001B[0m\u001B[0;34m(\u001B[0m\u001B[0mCNN\u001B[0m\u001B[0;34m,\u001B[0m \u001B[0mepoch\u001B[0m\u001B[0;34m)\u001B[0m\u001B[0;34m\u001B[0m\u001B[0;34m\u001B[0m\u001B[0m\n\u001B[0m\u001B[1;32m      3\u001B[0m     \u001B[0mtest\u001B[0m\u001B[0;34m(\u001B[0m\u001B[0mCNN\u001B[0m\u001B[0;34m,\u001B[0m \u001B[0mepoch\u001B[0m\u001B[0;34m)\u001B[0m\u001B[0;34m\u001B[0m\u001B[0;34m\u001B[0m\u001B[0m\n\u001B[1;32m      4\u001B[0m     \u001B[0mscheduler\u001B[0m\u001B[0;34m.\u001B[0m\u001B[0mstep\u001B[0m\u001B[0;34m(\u001B[0m\u001B[0;34m)\u001B[0m\u001B[0;34m\u001B[0m\u001B[0;34m\u001B[0m\u001B[0m\n\u001B[1;32m      5\u001B[0m \u001B[0;34m\u001B[0m\u001B[0m\n",
      "\u001B[0;32m/tmp/ipykernel_136568/3961195280.py\u001B[0m in \u001B[0;36mtrain\u001B[0;34m(model, epoch)\u001B[0m\n\u001B[1;32m      7\u001B[0m         \u001B[0mdata\u001B[0m \u001B[0;34m=\u001B[0m \u001B[0mtorch\u001B[0m\u001B[0;34m.\u001B[0m\u001B[0munsqueeze\u001B[0m\u001B[0;34m(\u001B[0m\u001B[0mdata\u001B[0m\u001B[0;34m,\u001B[0m \u001B[0;36m1\u001B[0m\u001B[0;34m)\u001B[0m\u001B[0;34m\u001B[0m\u001B[0;34m\u001B[0m\u001B[0m\n\u001B[1;32m      8\u001B[0m \u001B[0;34m\u001B[0m\u001B[0m\n\u001B[0;32m----> 9\u001B[0;31m         \u001B[0mdata\u001B[0m \u001B[0;34m=\u001B[0m \u001B[0mdata\u001B[0m\u001B[0;34m.\u001B[0m\u001B[0mto\u001B[0m\u001B[0;34m(\u001B[0m\u001B[0mdevice\u001B[0m\u001B[0;34m)\u001B[0m\u001B[0;34m\u001B[0m\u001B[0;34m\u001B[0m\u001B[0m\n\u001B[0m\u001B[1;32m     10\u001B[0m         \u001B[0mlabel\u001B[0m \u001B[0;34m=\u001B[0m \u001B[0mencoder\u001B[0m\u001B[0;34m(\u001B[0m\u001B[0mdata\u001B[0m\u001B[0;34m.\u001B[0m\u001B[0mshape\u001B[0m\u001B[0;34m[\u001B[0m\u001B[0;36m0\u001B[0m\u001B[0;34m]\u001B[0m\u001B[0;34m,\u001B[0m \u001B[0mlabel\u001B[0m\u001B[0;34m,\u001B[0m \u001B[0;36m10\u001B[0m\u001B[0;34m,\u001B[0m \u001B[0mdevice\u001B[0m\u001B[0;34m)\u001B[0m\u001B[0;34m\u001B[0m\u001B[0;34m\u001B[0m\u001B[0m\n\u001B[1;32m     11\u001B[0m \u001B[0;34m\u001B[0m\u001B[0m\n",
      "\u001B[0;31mKeyboardInterrupt\u001B[0m: "
     ]
    }
   ]
  },
  {
   "cell_type": "markdown",
   "source": [
    "## Run \"tensorboard --logdir=runs\" in the terminal to see the results if you have installed tensorboard, else install it from [here](https://www.tensorflow.org/install/). Also you can run this commands before start the training in jupyter notebook."
   ],
   "metadata": {
    "collapsed": false,
    "pycharm": {
     "name": "#%% md\n"
    }
   }
  },
  {
   "cell_type": "code",
   "execution_count": 88,
   "outputs": [
    {
     "name": "stdout",
     "output_type": "stream",
     "text": [
      "Known TensorBoard instances:\n",
      "  - port 6006: logdir runs (started 0:37:39 ago; pid 138539)\n",
      "Selecting TensorBoard with logdir runs (started 0:37:39 ago; port 6006, pid 138539).\n"
     ]
    },
    {
     "data": {
      "text/plain": "<IPython.core.display.HTML object>",
      "text/html": "\n      <iframe id=\"tensorboard-frame-7c3a25e1a4e1548\" width=\"100%\" height=\"1000\" frameborder=\"0\">\n      </iframe>\n      <script>\n        (function() {\n          const frame = document.getElementById(\"tensorboard-frame-7c3a25e1a4e1548\");\n          const url = new URL(\"/\", window.location);\n          const port = 6006;\n          if (port) {\n            url.port = port;\n          }\n          frame.src = url;\n        })();\n      </script>\n    "
     },
     "metadata": {},
     "output_type": "display_data"
    }
   ],
   "source": [
    "# List the available tensoboard runs\n",
    "notebook.list()\n",
    "# Connect to the tensoboard server\n",
    "notebook.display(port=6006, height=1000)"
   ],
   "metadata": {
    "collapsed": false,
    "pycharm": {
     "name": "#%%\n"
    }
   }
  },
  {
   "cell_type": "markdown",
   "source": [],
   "metadata": {
    "id": "c9JUaKoia5to"
   }
  }
 ]
}